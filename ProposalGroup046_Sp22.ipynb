{
 "cells": [
  {
   "cell_type": "markdown",
   "metadata": {
    "id": "J1EIaAA9UZmV"
   },
   "source": [
    "# COGS 118A- Project Proposal"
   ]
  },
  {
   "cell_type": "markdown",
   "metadata": {
    "id": "H-3icA3CUZmZ"
   },
   "source": [
    "# Names\n",
    "\n",
    "- Xiqiang Liu\n",
    "- Lian Lumada\n",
    "- Yikai Mao\n",
    "- Mincheng Wang\n",
    "- Hongzhang Shi\n"
   ]
  },
  {
   "cell_type": "markdown",
   "metadata": {
    "id": "VcDBSOLEUZma"
   },
   "source": [
    "# Abstract \n",
    "The goal of this project is using machine learning algorithms to detect COVID-19 abnormalities from chest radiograph. The dataset contains 6,054 chest scan images with a resolution of $2330 \\times 2783$, including information such as ages, genders, time of scan, etc. Each of scan is labelled in one of four categories: Negative for Pneumonia, Typical Appearance, Indeterminate Appearance, and Atypical Appearance. In this project, we use ResNet-34 Model to classify those chest radiograph data and identify their health status. After implementing the algorthims, we utilize the mean Average Precision (mAP) to examine the algorithm performance across multiple classes. "
   ]
  },
  {
   "cell_type": "markdown",
   "metadata": {
    "id": "I1GaBRgrUZma"
   },
   "source": [
    "# Background\n",
    "\n",
    "Covid-19, the most severe epidemic disease in current years, influences billions of peoples’ lives around the world. One symptom of Covid-19 positive patients is the inflammation and fluid in the lungs caused by pulmonary infection. Instead of spending hours and days in using polymerase chain reaction to detect genetic material, detecting infection from chest radiograph can only take minutes <a name=\"kaggle\"></a>[<sup>[1]</sup>](#kagglenote). The technique called radiomics is used to detect unidentifiable tumoral patterns from naked eyes, by extracting features from medical images using data-characterisation algorithms <a name=\"wiki\"></a>[<sup>[2]</sup>](#wikinote). Some research shows that voxel size and gray level on radiomics features are discretization dependent <a name=\"ncbi\"></a>[<sup>[3]</sup>](#ncbinote)."
   ]
  },
  {
   "cell_type": "markdown",
   "metadata": {
    "id": "p1Amx8M8UZmb"
   },
   "source": [
    "# Problem Statement\n",
    "\n",
    "For this project, our objective is to identify COVID-19 abnormalities that may be detected from chest radiographs. For each of the radiograph images, there are  four labels `negative`/`typical`/`indeterminate`/`atypical` that are one-hot encoded, respectively they stand for negative for pneumonia, typical/indeterminate/atypical appearances. Our task is to use different machine learning models to classify the radiographs to the four classes, `negative`/`typical`/`indeterminate`/`atypical`."
   ]
  },
  {
   "cell_type": "markdown",
   "metadata": {
    "id": "tFeD9gXnUZmb"
   },
   "source": [
    "# Data\n",
    "\n",
    "We selected the <a name=\"kaggledata\"></a>[SIIM-FISABIO-RSNA COVID-19 Detection](#kagglenote) dataset from Kaggle. The dataset contains 6,054 observations in DICOM format. For each observation, it consists of a chest scan with a resolution of $2330 \\times 2783$, totalling 6,484,390 variables. Additionally, metadatas, such as age, time of scan, etc. were also included in the dataset. In terms of labels, there are four possible outcomes for every observation: Negative for Pneumonia, Typical Appearance, Indeterminate Appearance, and Atypical Appearance. They are listed in a separate csv file using one-hot encoding and indexed by the name of individual cases.\n",
    "\n",
    "Since the original dataset was presented in the form of DICOM files, we need to use the library ```pydicom``` to extract the pixel-level information out, along with all the metadata.\n",
    "\n",
    "Although the original dataset also contained a test set, we do not plan to use it due to the lack of corresponding labels. Instead, a split of the training dataset will be used to evaluate our model.\n"
   ]
  },
  {
   "cell_type": "markdown",
   "metadata": {
    "id": "AFrcZUpDUZmc"
   },
   "source": [
    "# Proposed Solution\n",
    "\n",
    "Since this is a rather straightforward image classification problem, we plan to use a standard ResNet-34<a name=\"resnet\"></a>[<sup>[4]</sup>](#resnetnote) model for this project. This is because ResNet architectures have been proven to perform well on 2D image classification tasks. We plan to implement the model by ourselves using PyTorch. However, to ensure our implementation performs as expected, we will compare our performance with the standard implementation of ResNet-34 in the torchvision library, using the evaluation metrics listed below."
   ]
  },
  {
   "cell_type": "markdown",
   "metadata": {
    "id": "P2c9Y6g0UZmd"
   },
   "source": [
    "# Evaluation Metrics\n",
    "\n",
    "To evaluate the performance of our model, we plan to use mean Average Precision (mAP) as our evaluation metric. In all of the formulas below, $TP$, $TN$, $FP$, and $FN$ denote True Positive, True Negative, False Positive, and False Negative, respectively.\n",
    "\n",
    "First, we need to define Precision@k and Recall@k.\n",
    "\n",
    "Precision@k: Precision is defined as the proportion of true positives we hit out of all cases we predict positive: $$\\mathrm{Precision} = \\frac{TP}{TP+FP} $$ Precision@k is defined to be the precision value of the top-k observations sorted by predicted probability.\n",
    "\n",
    "Recall: Recall is defined as the proportion of true positive cases we hit out of all cases we predict as positive: $$\\mathrm{Recall} = \\frac{TP}{TP+FN} $$. Similarly, Recall@k is defined to be the recall value of the top-k observations sorted by predicted probability.\n",
    "\n",
    "Average Precision: After obtaining Precision and Recall values at several k, we could create a plot where the $x$-axis denotes recall value and the $y$-axis denotes the precision value. Average Precision is thereby defined as the area under the curve of the Precision-Recall curve. To numerically calculate this metric, we plan to use torchmetrics library.\n",
    "\n",
    "Mean Average Precision: All metrics above only apply to one prediction class. Since we have multiple prediction classes, we will take the average of all Average Precision values to get our mean Average Precision (mAP) metric.\n"
   ]
  },
  {
   "cell_type": "markdown",
   "metadata": {
    "id": "_kFnisBJUZmd"
   },
   "source": [
    "# Ethics & Privacy"
   ]
  },
  {
   "cell_type": "markdown",
   "metadata": {
    "id": "i-y48k1AUZmd"
   },
   "source": [
    "Since the dataset consists of chest radiographs and was reannotated for the Kaggle competition, only the patient's gender is recorded and other private information will not be revealed. \n",
    "\n",
    "Disclaimer: Our model cannot be used to identify covid-19 infection for medical uses. Its results should be verified with professionals to be reliable."
   ]
  },
  {
   "cell_type": "markdown",
   "metadata": {
    "id": "yGGctSIqUZme"
   },
   "source": [
    "# Team Expectations "
   ]
  },
  {
   "cell_type": "markdown",
   "metadata": {
    "id": "L9W7lP76UZme"
   },
   "source": [
    "* As a team, we will all communicate through discord, zoom and/or in person\n",
    "* If conflict does arise, we will work things out by laying out our options and deciding together as a team the best way to resolve whatever conflict we are dealing with\n",
    "\n",
    "* We will make decisions that work for each member of the team, meaning that we will meet when all, if not almost all members, can meet\n",
    "* We all expect equal amounts of work put into the project from each team member. We understand that each member may be stronger in different aspects of the project, and that is something that we will work through together\n",
    "* We will handle deadlines by sticking to our proposed timeline as well as we can"
   ]
  },
  {
   "cell_type": "markdown",
   "metadata": {
    "id": "XSIE571wUZme"
   },
   "source": [
    "# Project Timeline Proposal"
   ]
  },
  {
   "cell_type": "markdown",
   "metadata": {
    "id": "uUgo7_v0UZme"
   },
   "source": [
    "\n",
    "\n",
    "| Meeting Date  | Meeting Time| Completed Before Meeting  | Discuss at Meeting |\n",
    "|---|---|---|---|\n",
    "| 4/24  |  7 PM |  Parts of Project proposal (all)  | Edit and turn in proposal | \n",
    "| 5/2  |  7 AM |  Import and wrangle data, do some data exploration. Read up on literature for the project | Discuss wrangling and exploration finds | \n",
    "| 5/9  | 7 AM  | More data wrangling and start coding for the project  | Discuss plans for the rest of the coding for the project   |\n",
    "| 5/16  | 7 PM  | Coding for the project | Discuss frinings from code for the project  |\n",
    "| 5/23  | 7 PM  | Complete analysis from coded parts | Discuss analysis from coded parts of the project |\n",
    "| 5/30  | 7 PM  |Drafting of the paper for the final project| Discuss parts andedit project together. Make sure we are all on the same page |\n",
    "| 6/8  | Before 11:59 PM  | Final edits | Turn in Final Project  |"
   ]
  },
  {
   "cell_type": "markdown",
   "metadata": {
    "id": "S3oC_0GnUZmf"
   },
   "source": [
    "# Footnotes\n",
    "<a name=\"kagglenote\"></a>1.[^](#kaggle)[^](#kaggledata): https://www.kaggle.com/competitions/siim-covid19-detection/overview<br> \n",
    "<a name=\"wikinote\"></a>2.[^](#wiki): https://en.wikipedia.org/wiki/Radiomics<br>\n",
    "<a name=\"ncbinote\"></a>3.[^](#ncbi): https://www.ncbi.nlm.nih.gov/pmc/articles/PMC5462462/<br>\n",
    "<a name=\"resnetnote\"></a>4.[^](#resnet): https://arxiv.org/abs/1512.03385"
   ]
  },
  {
   "cell_type": "code",
   "execution_count": null,
   "metadata": {
    "id": "S9VvvFFDUZmf"
   },
   "outputs": [],
   "source": []
  }
 ],
 "metadata": {
  "colab": {
   "collapsed_sections": [],
   "name": "ProposalGroup046-Sp22.ipynb",
   "provenance": []
  },
  "kernelspec": {
   "display_name": "Python 3",
   "language": "python",
   "name": "python3"
  },
  "language_info": {
   "codemirror_mode": {
    "name": "ipython",
    "version": 3
   },
   "file_extension": ".py",
   "mimetype": "text/x-python",
   "name": "python",
   "nbconvert_exporter": "python",
   "pygments_lexer": "ipython3",
   "version": "3.8.3"
  }
 },
 "nbformat": 4,
 "nbformat_minor": 1
}
